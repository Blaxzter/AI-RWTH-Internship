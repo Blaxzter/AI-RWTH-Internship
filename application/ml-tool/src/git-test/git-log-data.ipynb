{
 "cells": [
  {
   "cell_type": "code",
   "execution_count": 1,
   "metadata": {
    "collapsed": true
   },
   "outputs": [],
   "source": [
    "import subprocess\n",
    "from dateutil.parser import parse\n",
    "from tqdm.auto import tqdm\n",
    "import os, psutil"
   ]
  },
  {
   "cell_type": "code",
   "execution_count": 5,
   "outputs": [],
   "source": [
    "# Clone example repo and add it to git ignore\n",
    "subprocess.run(['git', 'clone', 'git@github.com:cambolbro/Ludii.git', 'gitrepo'])\n",
    "\n",
    "data_directory = 'data'\n",
    "# Create the folder for the data\n",
    "if not os.path.exists(data_directory):\n",
    "    os.mkdir(data_directory)\n",
    "\n",
    "# Add the repo folder to a git ignore folder\n",
    "with open('.gitignore', 'w') as f:\n",
    "    f.write(\"gitrepo\")\n"
   ],
   "metadata": {
    "collapsed": false,
    "pycharm": {
     "name": "#%%\n"
    }
   }
  },
  {
   "cell_type": "code",
   "execution_count": 6,
   "outputs": [
    {
     "name": "stdout",
     "output_type": "stream",
     "text": [
      "U:\\Programming\\Uni\\AI-RWTH-Internship\\application\\ml-tool\\src\\git-test\\gitrepo\n"
     ]
    }
   ],
   "source": [
    "%cd gitrepo"
   ],
   "metadata": {
    "collapsed": false,
    "pycharm": {
     "name": "#%%\n"
    }
   }
  },
  {
   "cell_type": "code",
   "execution_count": 7,
   "outputs": [],
   "source": [
    "result = subprocess.run(['git', 'log', '--pretty=%H,%cn,%cd'], stdout=subprocess.PIPE)"
   ],
   "metadata": {
    "collapsed": false,
    "pycharm": {
     "name": "#%%\n"
    }
   }
  },
  {
   "cell_type": "code",
   "execution_count": 8,
   "outputs": [
    {
     "data": {
      "text/plain": "  0%|          | 0/28718 [00:00<?, ?it/s]",
      "application/vnd.jupyter.widget-view+json": {
       "version_major": 2,
       "version_minor": 0,
       "model_id": "de09aaf5cded45e7a7bf8edaed4bd204"
      }
     },
     "metadata": {},
     "output_type": "display_data"
    }
   ],
   "source": [
    "commit_data = str(result.stdout, 'utf8').split('\\n')\n",
    "commit_data = list(filter(lambda line: len(line) != 0, commit_data))\n",
    "commit_data = list(map(lambda line: line.split(','), commit_data))\n",
    "\n",
    "for feature_list in tqdm(commit_data):\n",
    "    feature_list[2] = parse(feature_list[2]).strftime(\"%Y%m%d-%H%M%S\")\n"
   ],
   "metadata": {
    "collapsed": false,
    "pycharm": {
     "name": "#%%\n"
    }
   }
  },
  {
   "cell_type": "code",
   "execution_count": 9,
   "outputs": [
    {
     "name": "stdout",
     "output_type": "stream",
     "text": [
      "Amount of Commits: 28718\n",
      "Memory Usage: 97.56640625mb\n",
      "Example Data:\n",
      "\tCommit   id: a4768bfa696a28f255fde83ff060daa927c435fb\n",
      "\tCommit name: Dennis Soemers\n",
      "\tCommit date: 20210423-164202\n"
     ]
    }
   ],
   "source": [
    "print(f'Amount of Commits: {len(commit_data)}')\n",
    "process = psutil.Process(os.getpid())\n",
    "print(f'Memory Usage: {process.memory_info().rss / 1024 ** 2}mb')\n",
    "print('Example Data:')\n",
    "print(f'\\tCommit   id: {commit_data[0][0]}')\n",
    "print(f'\\tCommit name: {commit_data[0][1]}')\n",
    "print(f'\\tCommit date: {commit_data[0][2]}')"
   ],
   "metadata": {
    "collapsed": false,
    "pycharm": {
     "name": "#%%\n"
    }
   }
  },
  {
   "cell_type": "code",
   "execution_count": 11,
   "outputs": [
    {
     "name": "stdout",
     "output_type": "stream",
     "text": [
      "21\n",
      "20180917-151003\n"
     ]
    }
   ],
   "source": [
    "date_1 = parse(commit_data[-1][2])\n",
    "date_2 = parse(commit_data[-65][2])\n",
    "\n",
    "print((date_2 - date_1).days)\n",
    "print(str(date_1.strftime(\"%Y%m%d-%H%M%S\")))"
   ],
   "metadata": {
    "collapsed": false,
    "pycharm": {
     "name": "#%%\n"
    }
   }
  },
  {
   "cell_type": "code",
   "execution_count": 12,
   "outputs": [
    {
     "data": {
      "text/plain": "  0%|          | 0/28718 [00:00<?, ?it/s]",
      "application/vnd.jupyter.widget-view+json": {
       "version_major": 2,
       "version_minor": 0,
       "model_id": "1f151a05b67947a7827cc55f4307872e"
      }
     },
     "metadata": {},
     "output_type": "display_data"
    }
   ],
   "source": [
    "start_date = parse(commit_data[-1][2])\n",
    "\n",
    "curr_file_list = []\n",
    "\n",
    "for data in tqdm(commit_data[::-1]):\n",
    "\n",
    "    result = subprocess.run(['git', 'diff-tree', '--no-commit-id', '--name-status', '-r', data[0]], stdout=subprocess.PIPE)\n",
    "    file_list = list(map(lambda line: line.split('\\t'), filter(len, str(result.stdout, 'utf8').split('\\n'))))\n",
    "    curr_file_list += list(map(lambda line: line + list(map(str, data[1:])), file_list))\n",
    "    curr_date = parse(data[2])\n",
    "\n",
    "    if (curr_date - start_date).days > 7:\n",
    "\n",
    "        file_data = '\\n'.join(map(lambda element: ','.join(element), curr_file_list))\n",
    "\n",
    "        with open(f'../data/{curr_date.strftime(\"%Y%m%d-%H%M%S\")}', 'w') as f:\n",
    "            f.write(file_data)\n",
    "\n",
    "        curr_file_list.clear()\n",
    "        start_date = curr_date"
   ],
   "metadata": {
    "collapsed": false,
    "pycharm": {
     "name": "#%%\n"
    }
   }
  },
  {
   "cell_type": "code",
   "execution_count": 70,
   "outputs": [
    {
     "name": "stdout",
     "output_type": "stream",
     "text": [
      "4\n",
      "3\n",
      "2\n",
      "1\n",
      "0\n"
     ]
    }
   ],
   "source": [],
   "metadata": {
    "collapsed": false,
    "pycharm": {
     "name": "#%%\n"
    }
   }
  }
 ],
 "metadata": {
  "kernelspec": {
   "display_name": "Python 3",
   "language": "python",
   "name": "python3"
  },
  "language_info": {
   "codemirror_mode": {
    "name": "ipython",
    "version": 2
   },
   "file_extension": ".py",
   "mimetype": "text/x-python",
   "name": "python",
   "nbconvert_exporter": "python",
   "pygments_lexer": "ipython2",
   "version": "2.7.6"
  }
 },
 "nbformat": 4,
 "nbformat_minor": 0
}