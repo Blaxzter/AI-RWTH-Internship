{
 "cells": [
  {
   "cell_type": "code",
   "execution_count": 1,
   "metadata": {
    "collapsed": true
   },
   "outputs": [],
   "source": [
    "import itertools\n",
    "import string\n",
    "\n",
    "import numpy as np"
   ]
  },
  {
   "cell_type": "code",
   "execution_count": 2,
   "outputs": [],
   "source": [
    "test_mat = np.zeros((10, 10))\n",
    "\n",
    "counter = 1\n",
    "\n",
    "for i, j in itertools.combinations_with_replacement(range(10), 2):\n",
    "    test_mat[i, j] = counter\n",
    "    counter += 1"
   ],
   "metadata": {
    "collapsed": false,
    "pycharm": {
     "name": "#%%\n"
    }
   }
  },
  {
   "cell_type": "code",
   "execution_count": 3,
   "outputs": [
    {
     "data": {
      "text/plain": "array([[ 1.,  2.,  3.,  4.,  5.,  6.,  7.,  8.,  9., 10.],\n       [ 0., 11., 12., 13., 14., 15., 16., 17., 18., 19.],\n       [ 0.,  0., 20., 21., 22., 23., 24., 25., 26., 27.],\n       [ 0.,  0.,  0., 28., 29., 30., 31., 32., 33., 34.],\n       [ 0.,  0.,  0.,  0., 35., 36., 37., 38., 39., 40.],\n       [ 0.,  0.,  0.,  0.,  0., 41., 42., 43., 44., 45.],\n       [ 0.,  0.,  0.,  0.,  0.,  0., 46., 47., 48., 49.],\n       [ 0.,  0.,  0.,  0.,  0.,  0.,  0., 50., 51., 52.],\n       [ 0.,  0.,  0.,  0.,  0.,  0.,  0.,  0., 53., 54.],\n       [ 0.,  0.,  0.,  0.,  0.,  0.,  0.,  0.,  0., 55.]])"
     },
     "execution_count": 3,
     "metadata": {},
     "output_type": "execute_result"
    }
   ],
   "source": [
    "test_mat"
   ],
   "metadata": {
    "collapsed": false,
    "pycharm": {
     "name": "#%%\n"
    }
   }
  },
  {
   "cell_type": "code",
   "execution_count": 4,
   "outputs": [
    {
     "data": {
      "text/plain": "'abcdefghijklmnopqrstuvwxyzABCDEFGHIJKLMNOPQRSTUVWXYZ'"
     },
     "execution_count": 4,
     "metadata": {},
     "output_type": "execute_result"
    }
   ],
   "source": [
    "string.ascii_letters"
   ],
   "metadata": {
    "collapsed": false,
    "pycharm": {
     "name": "#%%\n"
    }
   }
  },
  {
   "cell_type": "code",
   "execution_count": 5,
   "outputs": [],
   "source": [
    "x_group_one = []\n",
    "x_group_two = []\n",
    "\n",
    "for i in range(100):\n",
    "    rand_vec = np.concatenate((\n",
    "        np.random.choice(list(string.ascii_uppercase), size = 50),\n",
    "        np.random.choice(list(string.ascii_lowercase), size = 20)\n",
    "    ))\n",
    "    np.random.shuffle(rand_vec)\n",
    "    x_group_one.append(rand_vec)\n",
    "\n",
    "for i in range(10):\n",
    "    rand_vec = np.concatenate((\n",
    "        np.random.choice(list(string.ascii_lowercase), size = 50),\n",
    "        np.random.choice(list(string.ascii_uppercase), size = 20)\n",
    "    ))\n",
    "    np.random.shuffle(rand_vec)\n",
    "    x_group_two.append(rand_vec)\n",
    "\n",
    "y_group_one = np.zeros(len(x_group_one))\n",
    "y_group_two = np.ones(len(x_group_two))"
   ],
   "metadata": {
    "collapsed": false,
    "pycharm": {
     "name": "#%%\n"
    }
   }
  },
  {
   "cell_type": "code",
   "execution_count": 6,
   "outputs": [],
   "source": [
    "x_data = np.concatenate((x_group_one, x_group_two), axis = 0)\n",
    "y_data = np.concatenate((y_group_one, y_group_two), axis = 0)"
   ],
   "metadata": {
    "collapsed": false,
    "pycharm": {
     "name": "#%%\n"
    }
   }
  },
  {
   "cell_type": "code",
   "execution_count": 7,
   "outputs": [
    {
     "data": {
      "text/plain": "26"
     },
     "execution_count": 7,
     "metadata": {},
     "output_type": "execute_result"
    }
   ],
   "source": [
    "vocab = np.unique(x_data)\n",
    "\n",
    "np.where(vocab == 'a')[0].item()"
   ],
   "metadata": {
    "collapsed": false,
    "pycharm": {
     "name": "#%%\n"
    }
   }
  },
  {
   "cell_type": "code",
   "execution_count": 9,
   "outputs": [],
   "source": [
    "test_matrix = []\n",
    "for vec in x_data:\n",
    "    vector = np.zeros(70, dtype = np.int32)\n",
    "    for idx, element in enumerate(vec):\n",
    "        vector[idx] = np.where(vocab == element)[0].item() + 1\n",
    "    test_matrix.append(vector)\n",
    "\n",
    "x_data_converted = np.asarray(test_matrix)\n",
    "\n",
    "p = np.random.permutation(len(x_data_converted))\n",
    "\n",
    "x_data_converted = x_data_converted[p]\n",
    "y_data = y_data[p]\n",
    "\n",
    "X_train = x_data_converted[:100]\n",
    "X_test = x_data_converted[100:]\n",
    "y_train = y_data[:100]\n",
    "y_test = y_data[100:]"
   ],
   "metadata": {
    "collapsed": false,
    "pycharm": {
     "name": "#%%\n"
    }
   }
  },
  {
   "cell_type": "code",
   "execution_count": 10,
   "outputs": [
    {
     "name": "stdout",
     "output_type": "stream",
     "text": [
      "(100, 70)\n",
      "(10, 70)\n",
      "(100,)\n",
      "(10,)\n"
     ]
    }
   ],
   "source": [
    "print(X_train.shape)\n",
    "print(X_test.shape)\n",
    "print(y_train.shape)\n",
    "print(y_test.shape)"
   ],
   "metadata": {
    "collapsed": false,
    "pycharm": {
     "name": "#%%\n"
    }
   }
  },
  {
   "cell_type": "code",
   "execution_count": 19,
   "outputs": [
    {
     "name": "stdout",
     "output_type": "stream",
     "text": [
      "X.shape (100, 70) Y.shape (100, 70)\n",
      "X.shape (100, 70) Y.shape (100, 70)\n",
      "X.shape (10, 70) Y.shape (100, 70)\n",
      "X.shape (10, 70) Y.shape (100, 70)\n",
      "\n",
      "On Training Data:\n",
      "OneClassSVM ROC:1.0, precision @ rank n:1.0\n",
      "\n",
      "On Test Data:\n",
      "OneClassSVM ROC:0.0625, precision @ rank n:0.0\n"
     ]
    }
   ],
   "source": [
    "def count_occurrence(element, comp_vec):\n",
    "    return np.count_nonzero(comp_vec == element)\n",
    "\n",
    "occurrence_vectorized = np.vectorize(count_occurrence, excluded = ['comp_vec'])\n",
    "\n",
    "def set_kernel(X: np.ndarray, Y: np.ndarray):\n",
    "    gram_matrix = np.ndarray((X.shape[0], Y.shape[0]))\n",
    "\n",
    "    print(f'X.shape {X.shape} Y.shape {Y.shape}')\n",
    "\n",
    "    for i, j in itertools.combinations_with_replacement(range(X.shape[0]), 2):\n",
    "        vec_1 = X[i]\n",
    "        vec_2 = Y[j]\n",
    "        matching = occurrence_vectorized(vec_1, comp_vec = vec_2).sum()\n",
    "\n",
    "        gram_matrix[i, j] = matching\n",
    "        gram_matrix[j, i] = matching\n",
    "\n",
    "    return gram_matrix\n",
    "\n",
    "\n",
    "from pyod.utils import evaluate_print\n",
    "from pyod.models.ocsvm import OCSVM\n",
    "\n",
    "clf_name = 'OneClassSVM'\n",
    "clf = OCSVM(kernel = set_kernel)\n",
    "clf.fit(X_train)\n",
    "\n",
    "# get the prediction labels and outlier scores of the training data\n",
    "y_train_pred = clf.labels_  # binary labels (0: inliers, 1: outliers)\n",
    "y_train_scores = clf.decision_scores_  # raw outlier scores\n",
    "\n",
    "# get the prediction on the test data\n",
    "y_test_pred = clf.predict(X_test)  # outlier labels (0 or 1)\n",
    "y_test_scores = clf.decision_function(X_test)  # outlier scores\n",
    "\n",
    "# evaluate and print the results\n",
    "print(\"\\nOn Training Data:\")\n",
    "evaluate_print(clf_name, y_train, y_train_scores)\n",
    "print(\"\\nOn Test Data:\")\n",
    "evaluate_print(clf_name, y_test, y_test_scores)"
   ],
   "metadata": {
    "collapsed": false,
    "pycharm": {
     "name": "#%%\n"
    }
   }
  },
  {
   "cell_type": "code",
   "execution_count": null,
   "outputs": [],
   "source": [],
   "metadata": {
    "collapsed": false,
    "pycharm": {
     "name": "#%%\n",
     "is_executing": true
    }
   }
  }
 ],
 "metadata": {
  "kernelspec": {
   "display_name": "Python 3",
   "language": "python",
   "name": "python3"
  },
  "language_info": {
   "codemirror_mode": {
    "name": "ipython",
    "version": 2
   },
   "file_extension": ".py",
   "mimetype": "text/x-python",
   "name": "python",
   "nbconvert_exporter": "python",
   "pygments_lexer": "ipython2",
   "version": "2.7.6"
  }
 },
 "nbformat": 4,
 "nbformat_minor": 0
}