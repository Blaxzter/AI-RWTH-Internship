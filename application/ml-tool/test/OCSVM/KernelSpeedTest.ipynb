{
 "cells": [
  {
   "cell_type": "code",
   "execution_count": 1,
   "metadata": {
    "collapsed": true
   },
   "outputs": [],
   "source": [
    "import time\n",
    "import string\n",
    "import itertools\n",
    "import numpy as np"
   ]
  },
  {
   "cell_type": "code",
   "execution_count": 2,
   "outputs": [
    {
     "name": "stdout",
     "output_type": "stream",
     "text": [
      "['V' 'A' 'G' ... 'K' 'I' 'S']\n",
      "['Y' 'X' 'P' ... 'V' 'P' 'K']\n",
      "Start\n",
      "res: 3845683 time: 18.235750436782837\n"
     ]
    }
   ],
   "source": [
    "vec_1 = np.random.choice(list(string.ascii_uppercase), size = 10_000)\n",
    "vec_2 = np.random.choice(list(string.ascii_uppercase), size = 10_000)\n",
    "\n",
    "print(vec_1)\n",
    "print(vec_2)\n",
    "\n",
    "start = time.time()\n",
    "print(\"Start\")\n",
    "\n",
    "equal = 0\n",
    "\n",
    "for x, y in itertools.product(vec_1, vec_2):\n",
    "    equal += 1 if x == y else 0\n",
    "\n",
    "end = time.time()\n",
    "print(f'res: {equal} time: {end - start}')"
   ],
   "metadata": {
    "collapsed": false,
    "pycharm": {
     "name": "#%%\n"
    }
   }
  },
  {
   "cell_type": "code",
   "execution_count": 6,
   "outputs": [
    {
     "name": "stdout",
     "output_type": "stream",
     "text": [
      "Start\n",
      "res: 3845683 time: 1.0021882057189941\n"
     ]
    }
   ],
   "source": [
    "start = time.time()\n",
    "print(\"Start\")\n",
    "\n",
    "equal = 0\n",
    "\n",
    "for element in np.nditer(vec_1):\n",
    "    equal += np.count_nonzero(vec_2 == element)\n",
    "\n",
    "end = time.time()\n",
    "print(f'res: {equal} time: {end - start}')"
   ],
   "metadata": {
    "collapsed": false,
    "pycharm": {
     "name": "#%%\n"
    }
   }
  },
  {
   "cell_type": "code",
   "execution_count": 7,
   "outputs": [
    {
     "name": "stdout",
     "output_type": "stream",
     "text": [
      "Start\n",
      "res: 3845683 time: 1.1409080028533936\n"
     ]
    }
   ],
   "source": [
    "start = time.time()\n",
    "print(\"Start\")\n",
    "\n",
    "equal = 0\n",
    "\n",
    "\n",
    "def count_occurrence(element, comp_vec):\n",
    "    return np.count_nonzero(comp_vec == element)\n",
    "\n",
    "\n",
    "occurrence_vectorized = np.vectorize(count_occurrence, excluded = ['comp_vec'])\n",
    "equal = occurrence_vectorized(vec_1, comp_vec = vec_2).sum()\n",
    "\n",
    "end = time.time()\n",
    "print(f'res: {equal} time: {end - start}')"
   ],
   "metadata": {
    "collapsed": false,
    "pycharm": {
     "name": "#%%\n"
    }
   }
  },
  {
   "cell_type": "code",
   "execution_count": null,
   "outputs": [],
   "source": [],
   "metadata": {
    "collapsed": false,
    "pycharm": {
     "name": "#%%\n"
    }
   }
  }
 ],
 "metadata": {
  "kernelspec": {
   "display_name": "Python 3",
   "language": "python",
   "name": "python3"
  },
  "language_info": {
   "codemirror_mode": {
    "name": "ipython",
    "version": 2
   },
   "file_extension": ".py",
   "mimetype": "text/x-python",
   "name": "python",
   "nbconvert_exporter": "python",
   "pygments_lexer": "ipython2",
   "version": "2.7.6"
  }
 },
 "nbformat": 4,
 "nbformat_minor": 0
}